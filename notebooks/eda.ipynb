{
 "cells": [
  {
   "cell_type": "code",
   "execution_count": 9,
   "metadata": {},
   "outputs": [],
   "source": [
    "import numpy as np \n",
    "import pandas as pd \n",
    "import os \n",
    "import logging\n",
    "from collections import defaultdict"
   ]
  },
  {
   "cell_type": "code",
   "execution_count": 8,
   "metadata": {},
   "outputs": [],
   "source": [
    "logger = logging.getLogger()"
   ]
  },
  {
   "cell_type": "code",
   "execution_count": 2,
   "metadata": {},
   "outputs": [],
   "source": [
    "train_data_path = '../data/msra_train_bio.txt'\n",
    "test_data_path = '../data/msra_test_bio.txt'"
   ]
  },
  {
   "cell_type": "code",
   "execution_count": 6,
   "metadata": {},
   "outputs": [],
   "source": [
    "from tqdm import tqdm \n",
    "\n",
    "def read_raw_data(file_path, num_examples=0):\n",
    "    with open(file_path, 'r', encoding='utf8') as f:\n",
    "        examples = f.read().split('\\n\\n')\n",
    "        cnt = 0\n",
    "        data = defaultdict(list)\n",
    "        assert len(examples) != num_examples, \"Read data incorrectly\"\n",
    "        for ex in tqdm(examples, desc='Preprocessing raw data', total=len(examples)):\n",
    "            words, tags = [], []\n",
    "            for line in ex.split('\\n'):\n",
    "                items = line.split()\n",
    "                if len(items) == 2:\n",
    "                    word, tag = items \n",
    "                else:\n",
    "                    cnt += 1\n",
    "                    word = '，'\n",
    "                    tag = items[0]\n",
    "                words.append(word)\n",
    "                tags.append(tag)\n",
    "            text = ''.join(words)\n",
    "            data['text'].append(text)\n",
    "            data['tags'].append(tags)\n",
    "        logger.info(f'Total have {cnt} blanks')\n",
    "        return data \n",
    "        "
   ]
  },
  {
   "cell_type": "code",
   "execution_count": null,
   "metadata": {},
   "outputs": [],
   "source": []
  }
 ],
 "metadata": {
  "kernelspec": {
   "display_name": "Python 3.8.13 64-bit",
   "language": "python",
   "name": "python3"
  },
  "language_info": {
   "codemirror_mode": {
    "name": "ipython",
    "version": 3
   },
   "file_extension": ".py",
   "mimetype": "text/x-python",
   "name": "python",
   "nbconvert_exporter": "python",
   "pygments_lexer": "ipython3",
   "version": "3.8.13"
  },
  "orig_nbformat": 4,
  "vscode": {
   "interpreter": {
    "hash": "aee8b7b246df8f9039afb4144a1f6fd8d2ca17a180786b69acc140d282b71a49"
   }
  }
 },
 "nbformat": 4,
 "nbformat_minor": 2
}
