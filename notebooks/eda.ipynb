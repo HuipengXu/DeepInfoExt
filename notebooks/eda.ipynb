{
 "cells": [
  {
   "cell_type": "code",
   "execution_count": 2,
   "metadata": {},
   "outputs": [],
   "source": [
    "import numpy as np \n",
    "import pandas as pd \n",
    "import os \n",
    "import logging\n",
    "from collections import defaultdict"
   ]
  },
  {
   "cell_type": "code",
   "execution_count": 3,
   "metadata": {},
   "outputs": [],
   "source": [
    "logger = logging.getLogger()"
   ]
  },
  {
   "cell_type": "code",
   "execution_count": 4,
   "metadata": {},
   "outputs": [],
   "source": [
    "train_data_path = '../data/msra_train_bio.txt'\n",
    "test_data_path = '../data/msra_test_bio.txt'"
   ]
  },
  {
   "cell_type": "code",
   "execution_count": 5,
   "metadata": {},
   "outputs": [],
   "source": [
    "from transformers import BertTokenizer, BertTokenizerFast\n",
    "        "
   ]
  },
  {
   "cell_type": "code",
   "execution_count": 6,
   "metadata": {},
   "outputs": [
    {
     "ename": "HTTPError",
     "evalue": "404 Client Error: Not Found for url: https://huggingface.co/api/ptms/rbt3",
     "output_type": "error",
     "traceback": [
      "\u001b[0;31m---------------------------------------------------------------------------\u001b[0m",
      "\u001b[0;31mHTTPError\u001b[0m                                 Traceback (most recent call last)",
      "\u001b[1;32m/Users/xuhuipeng/Code/DeepInfoExt/notebooks/eda.ipynb Cell 5\u001b[0m in \u001b[0;36m<cell line: 1>\u001b[0;34m()\u001b[0m\n\u001b[0;32m----> <a href='vscode-notebook-cell:/Users/xuhuipeng/Code/DeepInfoExt/notebooks/eda.ipynb#ch0000004?line=0'>1</a>\u001b[0m tokenizer \u001b[39m=\u001b[39m BertTokenizerFast\u001b[39m.\u001b[39;49mfrom_pretrained(\u001b[39m'\u001b[39;49m\u001b[39m../ptms/rbt3/\u001b[39;49m\u001b[39m'\u001b[39;49m)\n",
      "File \u001b[0;32m/opt/homebrew/Caskroom/miniconda/base/envs/pt/lib/python3.8/site-packages/transformers/tokenization_utils_base.py:1651\u001b[0m, in \u001b[0;36mPreTrainedTokenizerBase.from_pretrained\u001b[0;34m(cls, pretrained_model_name_or_path, *init_inputs, **kwargs)\u001b[0m\n\u001b[1;32m   1648\u001b[0m     vocab_files[file_id] \u001b[39m=\u001b[39m pretrained_model_name_or_path\n\u001b[1;32m   1649\u001b[0m \u001b[39melse\u001b[39;00m:\n\u001b[1;32m   1650\u001b[0m     \u001b[39m# At this point pretrained_model_name_or_path is either a directory or a model identifier name\u001b[39;00m\n\u001b[0;32m-> 1651\u001b[0m     fast_tokenizer_file \u001b[39m=\u001b[39m get_fast_tokenizer_file(\n\u001b[1;32m   1652\u001b[0m         pretrained_model_name_or_path,\n\u001b[1;32m   1653\u001b[0m         revision\u001b[39m=\u001b[39;49mrevision,\n\u001b[1;32m   1654\u001b[0m         use_auth_token\u001b[39m=\u001b[39;49muse_auth_token,\n\u001b[1;32m   1655\u001b[0m         local_files_only\u001b[39m=\u001b[39;49mlocal_files_only,\n\u001b[1;32m   1656\u001b[0m     )\n\u001b[1;32m   1657\u001b[0m     additional_files_names \u001b[39m=\u001b[39m {\n\u001b[1;32m   1658\u001b[0m         \u001b[39m\"\u001b[39m\u001b[39madded_tokens_file\u001b[39m\u001b[39m\"\u001b[39m: ADDED_TOKENS_FILE,\n\u001b[1;32m   1659\u001b[0m         \u001b[39m\"\u001b[39m\u001b[39mspecial_tokens_map_file\u001b[39m\u001b[39m\"\u001b[39m: SPECIAL_TOKENS_MAP_FILE,\n\u001b[1;32m   1660\u001b[0m         \u001b[39m\"\u001b[39m\u001b[39mtokenizer_config_file\u001b[39m\u001b[39m\"\u001b[39m: TOKENIZER_CONFIG_FILE,\n\u001b[1;32m   1661\u001b[0m         \u001b[39m\"\u001b[39m\u001b[39mtokenizer_file\u001b[39m\u001b[39m\"\u001b[39m: fast_tokenizer_file,\n\u001b[1;32m   1662\u001b[0m     }\n\u001b[1;32m   1663\u001b[0m     \u001b[39m# Look for the tokenizer files\u001b[39;00m\n",
      "File \u001b[0;32m/opt/homebrew/Caskroom/miniconda/base/envs/pt/lib/python3.8/site-packages/transformers/tokenization_utils_base.py:3475\u001b[0m, in \u001b[0;36mget_fast_tokenizer_file\u001b[0;34m(path_or_repo, revision, use_auth_token, local_files_only)\u001b[0m\n\u001b[1;32m   3455\u001b[0m \u001b[39m\"\"\"\u001b[39;00m\n\u001b[1;32m   3456\u001b[0m \u001b[39mGet the tokenizer file to use for this version of transformers.\u001b[39;00m\n\u001b[1;32m   3457\u001b[0m \n\u001b[0;32m   (...)\u001b[0m\n\u001b[1;32m   3472\u001b[0m \u001b[39m    :obj:`str`: The tokenizer file to use.\u001b[39;00m\n\u001b[1;32m   3473\u001b[0m \u001b[39m\"\"\"\u001b[39;00m\n\u001b[1;32m   3474\u001b[0m \u001b[39m# Inspect all files from the repo/folder.\u001b[39;00m\n\u001b[0;32m-> 3475\u001b[0m all_files \u001b[39m=\u001b[39m get_list_of_files(\n\u001b[1;32m   3476\u001b[0m     path_or_repo, revision\u001b[39m=\u001b[39;49mrevision, use_auth_token\u001b[39m=\u001b[39;49muse_auth_token, local_files_only\u001b[39m=\u001b[39;49mlocal_files_only\n\u001b[1;32m   3477\u001b[0m )\n\u001b[1;32m   3478\u001b[0m tokenizer_files_map \u001b[39m=\u001b[39m {}\n\u001b[1;32m   3479\u001b[0m \u001b[39mfor\u001b[39;00m file_name \u001b[39min\u001b[39;00m all_files:\n",
      "File \u001b[0;32m/opt/homebrew/Caskroom/miniconda/base/envs/pt/lib/python3.8/site-packages/transformers/file_utils.py:1952\u001b[0m, in \u001b[0;36mget_list_of_files\u001b[0;34m(path_or_repo, revision, use_auth_token, local_files_only)\u001b[0m\n\u001b[1;32m   1950\u001b[0m \u001b[39melse\u001b[39;00m:\n\u001b[1;32m   1951\u001b[0m     token \u001b[39m=\u001b[39m \u001b[39mNone\u001b[39;00m\n\u001b[0;32m-> 1952\u001b[0m \u001b[39mreturn\u001b[39;00m list_repo_files(path_or_repo, revision\u001b[39m=\u001b[39;49mrevision, token\u001b[39m=\u001b[39;49mtoken)\n",
      "File \u001b[0;32m/opt/homebrew/Caskroom/miniconda/base/envs/pt/lib/python3.8/site-packages/huggingface_hub/hf_api.py:884\u001b[0m, in \u001b[0;36mHfApi.list_repo_files\u001b[0;34m(self, repo_id, revision, repo_type, token, timeout)\u001b[0m\n\u001b[1;32m    880\u001b[0m \u001b[39m\"\"\"\u001b[39;00m\n\u001b[1;32m    881\u001b[0m \u001b[39mGet the list of files in a given repo.\u001b[39;00m\n\u001b[1;32m    882\u001b[0m \u001b[39m\"\"\"\u001b[39;00m\n\u001b[1;32m    883\u001b[0m \u001b[39mif\u001b[39;00m repo_type \u001b[39mis\u001b[39;00m \u001b[39mNone\u001b[39;00m:\n\u001b[0;32m--> 884\u001b[0m     info \u001b[39m=\u001b[39m \u001b[39mself\u001b[39;49m\u001b[39m.\u001b[39;49mmodel_info(\n\u001b[1;32m    885\u001b[0m         repo_id, revision\u001b[39m=\u001b[39;49mrevision, token\u001b[39m=\u001b[39;49mtoken, timeout\u001b[39m=\u001b[39;49mtimeout\n\u001b[1;32m    886\u001b[0m     )\n\u001b[1;32m    887\u001b[0m \u001b[39melif\u001b[39;00m repo_type \u001b[39m==\u001b[39m \u001b[39m\"\u001b[39m\u001b[39mdataset\u001b[39m\u001b[39m\"\u001b[39m:\n\u001b[1;32m    888\u001b[0m     info \u001b[39m=\u001b[39m \u001b[39mself\u001b[39m\u001b[39m.\u001b[39mdataset_info(\n\u001b[1;32m    889\u001b[0m         repo_id, revision\u001b[39m=\u001b[39mrevision, token\u001b[39m=\u001b[39mtoken, timeout\u001b[39m=\u001b[39mtimeout\n\u001b[1;32m    890\u001b[0m     )\n",
      "File \u001b[0;32m/opt/homebrew/Caskroom/miniconda/base/envs/pt/lib/python3.8/site-packages/huggingface_hub/hf_api.py:868\u001b[0m, in \u001b[0;36mHfApi.model_info\u001b[0;34m(self, repo_id, revision, token, timeout)\u001b[0m\n\u001b[1;32m    866\u001b[0m headers \u001b[39m=\u001b[39m {\u001b[39m\"\u001b[39m\u001b[39mauthorization\u001b[39m\u001b[39m\"\u001b[39m: \u001b[39mf\u001b[39m\u001b[39m\"\u001b[39m\u001b[39mBearer \u001b[39m\u001b[39m{\u001b[39;00mtoken\u001b[39m}\u001b[39;00m\u001b[39m\"\u001b[39m} \u001b[39mif\u001b[39;00m token \u001b[39mis\u001b[39;00m \u001b[39mnot\u001b[39;00m \u001b[39mNone\u001b[39;00m \u001b[39melse\u001b[39;00m \u001b[39mNone\u001b[39;00m\n\u001b[1;32m    867\u001b[0m r \u001b[39m=\u001b[39m requests\u001b[39m.\u001b[39mget(path, headers\u001b[39m=\u001b[39mheaders, timeout\u001b[39m=\u001b[39mtimeout)\n\u001b[0;32m--> 868\u001b[0m r\u001b[39m.\u001b[39;49mraise_for_status()\n\u001b[1;32m    869\u001b[0m d \u001b[39m=\u001b[39m r\u001b[39m.\u001b[39mjson()\n\u001b[1;32m    870\u001b[0m \u001b[39mreturn\u001b[39;00m ModelInfo(\u001b[39m*\u001b[39m\u001b[39m*\u001b[39md)\n",
      "File \u001b[0;32m/opt/homebrew/Caskroom/miniconda/base/envs/pt/lib/python3.8/site-packages/requests/models.py:960\u001b[0m, in \u001b[0;36mResponse.raise_for_status\u001b[0;34m(self)\u001b[0m\n\u001b[1;32m    957\u001b[0m     http_error_msg \u001b[39m=\u001b[39m \u001b[39mu\u001b[39m\u001b[39m'\u001b[39m\u001b[39m%s\u001b[39;00m\u001b[39m Server Error: \u001b[39m\u001b[39m%s\u001b[39;00m\u001b[39m for url: \u001b[39m\u001b[39m%s\u001b[39;00m\u001b[39m'\u001b[39m \u001b[39m%\u001b[39m (\u001b[39mself\u001b[39m\u001b[39m.\u001b[39mstatus_code, reason, \u001b[39mself\u001b[39m\u001b[39m.\u001b[39murl)\n\u001b[1;32m    959\u001b[0m \u001b[39mif\u001b[39;00m http_error_msg:\n\u001b[0;32m--> 960\u001b[0m     \u001b[39mraise\u001b[39;00m HTTPError(http_error_msg, response\u001b[39m=\u001b[39m\u001b[39mself\u001b[39m)\n",
      "\u001b[0;31mHTTPError\u001b[0m: 404 Client Error: Not Found for url: https://huggingface.co/api/ptms/rbt3"
     ]
    }
   ],
   "source": [
    "tokenizer = BertTokenizerFast.from_pretrained('../ptms/rbt3/')"
   ]
  },
  {
   "cell_type": "code",
   "execution_count": null,
   "metadata": {},
   "outputs": [],
   "source": [
    "x = tokenizer.encode_plus('今天真是个好日子啊555', return_offsets_mapping=True)"
   ]
  },
  {
   "cell_type": "code",
   "execution_count": null,
   "metadata": {},
   "outputs": [
    {
     "data": {
      "text/plain": [
       "['今', '天', '真', '是', '个', '好', '日', '子', '啊', '555']"
      ]
     },
     "execution_count": 13,
     "metadata": {},
     "output_type": "execute_result"
    }
   ],
   "source": [
    "tokenizer.tokenize('今天真是个好日子啊555')"
   ]
  },
  {
   "cell_type": "code",
   "execution_count": null,
   "metadata": {},
   "outputs": [
    {
     "data": {
      "text/plain": [
       "[(0, 0),\n",
       " (0, 1),\n",
       " (1, 2),\n",
       " (2, 3),\n",
       " (3, 4),\n",
       " (4, 5),\n",
       " (5, 6),\n",
       " (6, 7),\n",
       " (7, 8),\n",
       " (8, 9),\n",
       " (9, 12),\n",
       " (0, 0)]"
      ]
     },
     "execution_count": 16,
     "metadata": {},
     "output_type": "execute_result"
    }
   ],
   "source": [
    "x.offset_mapping"
   ]
  },
  {
   "cell_type": "code",
   "execution_count": null,
   "metadata": {},
   "outputs": [
    {
     "ename": "NameError",
     "evalue": "name 'x' is not defined",
     "output_type": "error",
     "traceback": [
      "\u001b[0;31m---------------------------------------------------------------------------\u001b[0m",
      "\u001b[0;31mNameError\u001b[0m                                 Traceback (most recent call last)",
      "\u001b[1;32m/Users/xuhuipeng/Code/DeepInfoExt/notebooks/eda.ipynb Cell 9\u001b[0m in \u001b[0;36m<cell line: 1>\u001b[0;34m()\u001b[0m\n\u001b[0;32m----> <a href='vscode-notebook-cell:/Users/xuhuipeng/Code/DeepInfoExt/notebooks/eda.ipynb#ch0000008?line=0'>1</a>\u001b[0m x\u001b[39m.\u001b[39minput_ids\n",
      "\u001b[0;31mNameError\u001b[0m: name 'x' is not defined"
     ]
    }
   ],
   "source": [
    "x.input_ids"
   ]
  },
  {
   "cell_type": "code",
   "execution_count": 1,
   "metadata": {},
   "outputs": [],
   "source": [
    "from torchcrf import CRF"
   ]
  },
  {
   "cell_type": "code",
   "execution_count": 2,
   "metadata": {},
   "outputs": [],
   "source": [
    "crf = CRF(num_tags=5, batch_first=True)"
   ]
  },
  {
   "cell_type": "code",
   "execution_count": 5,
   "metadata": {},
   "outputs": [
    {
     "data": {
      "text/plain": [
       "['start_transitions', 'end_transitions', 'transitions']"
      ]
     },
     "execution_count": 5,
     "metadata": {},
     "output_type": "execute_result"
    }
   ],
   "source": [
    "[name for name, _ in  crf.named_parameters()]"
   ]
  },
  {
   "cell_type": "code",
   "execution_count": null,
   "metadata": {},
   "outputs": [],
   "source": []
  }
 ],
 "metadata": {
  "kernelspec": {
   "display_name": "Python 3.8.12 ('pt')",
   "language": "python",
   "name": "python3"
  },
  "language_info": {
   "codemirror_mode": {
    "name": "ipython",
    "version": 3
   },
   "file_extension": ".py",
   "mimetype": "text/x-python",
   "name": "python",
   "nbconvert_exporter": "python",
   "pygments_lexer": "ipython3",
   "version": "3.8.12"
  },
  "orig_nbformat": 4,
  "vscode": {
   "interpreter": {
    "hash": "52bcc07383d658a5785e1b30540c2b504a08802f2f344862f0e6cac62839057c"
   }
  }
 },
 "nbformat": 4,
 "nbformat_minor": 2
}
