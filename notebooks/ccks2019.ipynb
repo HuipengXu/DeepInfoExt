{
 "cells": [
  {
   "cell_type": "code",
   "execution_count": 4,
   "metadata": {},
   "outputs": [
    {
     "name": "stdout",
     "output_type": "stream",
     "text": [
      "{\"originalText\": \"，患者3月前因“直肠癌”于在我院于全麻上行直肠癌根治术（DIXON术），手术过程顺利，术后给予抗感染及营养支持治疗，患者恢复好，切口愈合良好。，术后病理示：直肠腺癌（中低度分化），浸润溃疡型，面积3.5*2CM，侵达外膜。双端切线另送“近端”、“远端”及环周底部切除面未查见癌。肠壁一站（10个）、中间组（8个）淋巴结未查见癌。，免疫组化染色示：ERCC1弥漫（+）、TS少部分弱（+）、SYN（-）、CGA（-）。术后查无化疗禁忌后给予3周期化疗，，方案为：奥沙利铂150MG D1，亚叶酸钙0.3G+替加氟1.0G D2-D6，同时给与升白细胞、护肝、止吐、免疫增强治疗，患者副反应轻。院外期间患者一般情况好，无恶心，无腹痛腹胀胀不适，无现患者为行复查及化疗再次来院就诊，门诊以“直肠癌术后”收入院。   近期患者精神可，饮食可，大便正常，小便正常，近期体重无明显变化。\", \"entities\": [{\"label_type\": \"疾病和诊断\", \"overlap\": 0, \"start_pos\": 8, \"end_pos\": 11}, {\"label_type\": \"手术\", \"overlap\": 0, \"start_pos\": 21, \"end_pos\": 35}, {\"label_type\": \"疾病和诊断\", \"overlap\": 0, \"start_pos\": 78, \"end_pos\": 95}, {\"label_type\": \"解剖部位\", \"overlap\": 0, \"start_pos\": 139, \"end_pos\": 159}, {\"end_pos\": 234, \"label_type\": \"药物\", \"overlap\": 0, \"start_pos\": 230}, {\"end_pos\": 247, \"label_type\": \"药物\", \"overlap\": 0, \"start_pos\": 243}, {\"end_pos\": 255, \"label_type\": \"药物\", \"overlap\": 0, \"start_pos\": 252}, {\"label_type\": \"解剖部位\", \"overlap\": 0, \"start_pos\": 276, \"end_pos\": 277}, {\"label_type\": \"解剖部位\", \"overlap\": 0, \"start_pos\": 312, \"end_pos\": 313}, {\"label_type\": \"解剖部位\", \"overlap\": 0, \"start_pos\": 314, \"end_pos\": 315}, {\"label_type\": \"疾病和诊断\", \"overlap\": 0, \"start_pos\": 342, \"end_pos\": 347}]}\n",
      "{\"originalText\": \"，患者因罹患“胃癌”于2013-10-29在我院予行全麻上胃癌根治术，，术中见：腹腔内腹水，腹膜无转移，肝脏未触及明显转移性灶，肿瘤位于胃体、胃底部，小弯侧偏后壁，约5*4*2CM大小，肿瘤已侵达浆膜外，第1、3组淋巴结肿大，肿瘤尚能活动，经探查决定行全胃切除，空肠J字代胃术。手术顺利，术后积极予相关对症支持治疗；，后病理示：胃底、体小弯侧低分化腺癌，部分为印戒细胞癌图像，蕈伞型，面积5.2*3.5CM，局部侵达粘膜上层，并于少数腺管内查见癌栓。双端切线及另送“近端切线”未查见癌。呈三组（5/13个）淋巴结癌转移。一组（7个）、四组（13个）、五组（1个）、六组（4个）淋巴结未查见癌。，癌组织免疫组化染色示：ERCC1（+）、β-TUBULIN-III（+）、TS（-）、RRM1（-）、TOPOII阳性细胞数约20%、CERBB-2（2+） 。依据患者病情及肿瘤病理与分期继续术后辅助性化疗指征存在，患者及家属拒绝化疗。自术后出院以来，患者一般情况保持良好；无发热，偶有恶心，无呕吐，无反酸、嗳气，无明显进食不适，偶有进食后轻微腹胀，无腹痛。现患者为行进一步复查并必要时适当处理而再来我院就诊，门诊依情以“胃恶性肿瘤术后”收入院。目前患者精神及情绪状态良好，食欲较术前明显减少，饮食可，夜间睡眠后；今8个月体重减轻18KG。\", \"entities\": [{\"label_type\": \"疾病和诊断\", \"overlap\": 0, \"start_pos\": 7, \"end_pos\": 9}, {\"end_pos\": 34, \"label_type\": \"手术\", \"overlap\": 0, \"start_pos\": 29}, {\"end_pos\": 42, \"label_type\": \"解剖部位\", \"overlap\": 0, \"start_pos\": 40}, {\"end_pos\": 44, \"label_type\": \"解剖部位\", \"overlap\": 0, \"start_pos\": 43}, {\"label_type\": \"解剖部位\", \"overlap\": 0, \"start_pos\": 46, \"end_pos\": 47}, {\"end_pos\": 54, \"label_type\": \"解剖部位\", \"overlap\": 0, \"start_pos\": 52}, {\"end_pos\": 70, \"label_type\": \"解剖部位\", \"overlap\": 0, \"start_pos\": 68}, {\"end_pos\": 74, \"label_type\": \"解剖部位\", \"overlap\": 0, \"start_pos\": 71}, {\"label_type\": \"解剖部位\", \"overlap\": 0, \"start_pos\": 75, \"end_pos\": 78}, {\"end_pos\": 138, \"label_type\": \"手术\", \"overlap\": 0, \"start_pos\": 126}, {\"label_type\": \"疾病和诊断\", \"overlap\": 0, \"start_pos\": 164, \"end_pos\": 191}, {\"label_type\": \"解剖部位\", \"overlap\": 0, \"start_pos\": 244, \"end_pos\": 256}, {\"label_type\": \"解剖部位\", \"overlap\": 0, \"start_pos\": 260, \"end_pos\": 291}, {\"end_pos\": 470, \"label_type\": \"解剖部位\", \"overlap\": 0, \"start_pos\": 469}, {\"end_pos\": 474, \"label_type\": \"解剖部位\", \"overlap\": 0, \"start_pos\": 473}, {\"label_type\": \"疾病和诊断\", \"overlap\": 0, \"start_pos\": 508, \"end_pos\": 515}]}\n"
     ]
    }
   ],
   "source": [
    "!head -n 2 \"../data/yidu-s4k/subtask1_training_part1.txt\""
   ]
  },
  {
   "cell_type": "code",
   "execution_count": 1,
   "metadata": {},
   "outputs": [],
   "source": [
    "from tqdm import tqdm\n",
    "import json"
   ]
  },
  {
   "cell_type": "code",
   "execution_count": 8,
   "metadata": {},
   "outputs": [],
   "source": [
    "def parse_ccks(path, out_path, path2=None):\n",
    "    def _parse(path):\n",
    "        data = []\n",
    "        with open(path, 'r', encoding='utf-8-sig') as f:\n",
    "            lines = f.readlines()\n",
    "            for line in tqdm(lines, desc='Parsing', total=len(lines)):\n",
    "                line = line.strip()\n",
    "                if not line: continue\n",
    "                example = json.loads(line)\n",
    "                tokens = list(example['originalText'])\n",
    "                tags = ['O'] * len(tokens)\n",
    "                for ent in example['entities']:\n",
    "                    start_pos = ent['start_pos']\n",
    "                    end_pos = ent['end_pos']\n",
    "                    label_type = ent['label_type']\n",
    "                    tags[start_pos] = f'B-{label_type}'\n",
    "                    tags[start_pos+1: end_pos] = [f'I-{label_type}'] * (end_pos - start_pos - 1)\n",
    "                data.append('\\n'.join([' '.join([token, tag]) for token, tag in zip(tokens, tags)]))\n",
    "        return data\n",
    "    \n",
    "    data = _parse(path)\n",
    "    if path2:\n",
    "        data += _parse(path2)\n",
    "    \n",
    "    with open(out_path, 'w', encoding='utf8') as f:\n",
    "        f.write('\\n\\n'.join(data))"
   ]
  },
  {
   "cell_type": "code",
   "execution_count": 9,
   "metadata": {},
   "outputs": [
    {
     "name": "stderr",
     "output_type": "stream",
     "text": [
      "Parsing: 100%|██████████| 400/400 [00:00<00:00, 6594.77it/s]\n",
      "Parsing: 100%|██████████| 601/601 [00:00<00:00, 7234.96it/s]\n"
     ]
    }
   ],
   "source": [
    "parse_ccks('../data/yidu-s4k/subtask1_training_part1.txt', '../data/yidu-s4k/ccks2019_train.txt', path2='../data/yidu-s4k/subtask1_training_part2.txt')"
   ]
  },
  {
   "cell_type": "code",
   "execution_count": 10,
   "metadata": {},
   "outputs": [
    {
     "name": "stderr",
     "output_type": "stream",
     "text": [
      "Parsing: 100%|██████████| 379/379 [00:00<00:00, 10075.50it/s]\n"
     ]
    }
   ],
   "source": [
    "parse_ccks('../data/yidu-s4k/subtask1_test_set_with_answer.json', '../data/yidu-s4k/ccks2019_test.txt')"
   ]
  },
  {
   "cell_type": "code",
   "execution_count": null,
   "metadata": {},
   "outputs": [],
   "source": []
  },
  {
   "cell_type": "code",
   "execution_count": null,
   "metadata": {},
   "outputs": [],
   "source": []
  }
 ],
 "metadata": {
  "kernelspec": {
   "display_name": "Python 3.8.10 64-bit",
   "language": "python",
   "name": "python3"
  },
  "language_info": {
   "codemirror_mode": {
    "name": "ipython",
    "version": 3
   },
   "file_extension": ".py",
   "mimetype": "text/x-python",
   "name": "python",
   "nbconvert_exporter": "python",
   "pygments_lexer": "ipython3",
   "version": "3.8.10"
  },
  "orig_nbformat": 4,
  "vscode": {
   "interpreter": {
    "hash": "31f2aee4e71d21fbe5cf8b01ff0e069b9275f58929596ceb00d14d90e3e16cd6"
   }
  }
 },
 "nbformat": 4,
 "nbformat_minor": 2
}
